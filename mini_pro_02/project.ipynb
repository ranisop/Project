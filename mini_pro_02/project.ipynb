{
 "cells": [
  {
   "cell_type": "code",
   "execution_count": 561,
   "metadata": {},
   "outputs": [],
   "source": [
    "import numpy as np\n",
    "import json\n",
    "import urllib.request\n",
    "import codecs\n",
    "from konlpy.tag import Okt\n",
    "import matplotlib.pyplot as plt\n",
    "%matplotlib inline \n",
    "from wordcloud import WordCloud, STOPWORDS\n",
    "from keras.preprocessing.text import Tokenizer\n",
    "from sklearn.feature_extraction.text import TfidfVectorizer\n",
    "from keras.models import Sequential\n",
    "from keras.layers import Flatten, Dense, Embedding, SimpleRNN\n",
    "from nltk import word_tokenize"
   ]
  },
  {
   "cell_type": "markdown",
   "metadata": {},
   "source": [
    "# 형태소 분석"
   ]
  },
  {
   "cell_type": "code",
   "execution_count": 602,
   "metadata": {},
   "outputs": [],
   "source": [
    "def test_sop (infile, outfile):\n",
    "    readFp = open(infile, \"r\", encoding=\"utf-8\")\n",
    "    wakati_file = outfile\n",
    "    writeFp = open(wakati_file, \"w\", encoding=\"utf-8\")\n",
    "\n",
    "    # 형태소 분석\n",
    "    twitter = Okt()\n",
    "    i = 0\n",
    "\n",
    "    while True:\n",
    "        line = readFp.readline()\n",
    "        if not line: break\n",
    "            \n",
    "        malist = twitter.pos(line, norm=True, stem=True)\n",
    "\n",
    "        for word in malist:\n",
    "            if word[1] in [\"Noun\"]:\n",
    "                 writeFp.write(word[0] + \" \")\n",
    "    writeFp.close()"
   ]
  },
  {
   "cell_type": "markdown",
   "metadata": {},
   "source": [
    "# Word 전처리"
   ]
  },
  {
   "cell_type": "code",
   "execution_count": 603,
   "metadata": {},
   "outputs": [
    {
     "data": {
      "text/plain": [
       "60000"
      ]
     },
     "execution_count": 603,
     "metadata": {},
     "output_type": "execute_result"
    }
   ],
   "source": [
    "data_token = []\n",
    "\n",
    "finance = codecs.open(\"finance.m\", \"r\" , encoding=\"utf-8\").read()\n",
    "tokens_f = word_tokenize(finance)\n",
    "for i, j in zip(tokens_f, range(30000)):\n",
    "    data_token.append(i)\n",
    "sports = codecs.open(\"sports.m\", \"r\" , encoding=\"utf-8\").read()\n",
    "tokens_s = word_tokenize(sports)\n",
    "for i, j in zip(tokens_s, range(30000)):\n",
    "    data_token.append(i)\n",
    "len(data_token)"
   ]
  },
  {
   "cell_type": "code",
   "execution_count": 604,
   "metadata": {},
   "outputs": [
    {
     "data": {
      "text/plain": [
       "600"
      ]
     },
     "execution_count": 604,
     "metadata": {},
     "output_type": "execute_result"
    }
   ],
   "source": [
    "# data_token = np.array(data_token)\n",
    "\n",
    "data_split = []\n",
    "for i in range(600):\n",
    "    data_split.append(data_token[i*100 : (i+1)*100])\n",
    "len(data_split)"
   ]
  },
  {
   "cell_type": "code",
   "execution_count": 605,
   "metadata": {},
   "outputs": [],
   "source": [
    "len_word = 1000"
   ]
  },
  {
   "cell_type": "code",
   "execution_count": 606,
   "metadata": {},
   "outputs": [],
   "source": [
    "from keras.preprocessing.text import Tokenizer\n",
    "\n",
    "tokenizer = Tokenizer(num_words=len_word)\n",
    "tokenizer.fit_on_texts(data_split)\n",
    "\n",
    "sequences = tokenizer.texts_to_sequences(data_split)\n",
    "# print(\"sequences\",  sequences  )"
   ]
  },
  {
   "cell_type": "code",
   "execution_count": 607,
   "metadata": {},
   "outputs": [],
   "source": [
    "#input_train = tokenizer.texts_to_matrix(data_token, mode='binary')\n",
    "from keras.preprocessing import sequence\n",
    "\n",
    "input_train = sequence.pad_sequences(sequences, maxlen=len_word)"
   ]
  },
  {
   "cell_type": "code",
   "execution_count": 608,
   "metadata": {},
   "outputs": [
    {
     "name": "stdout",
     "output_type": "stream",
     "text": [
      "(600, 1000)\n"
     ]
    }
   ],
   "source": [
    "input_train\n",
    "print(input_train.shape)"
   ]
  },
  {
   "cell_type": "markdown",
   "metadata": {},
   "source": [
    "## labeling"
   ]
  },
  {
   "cell_type": "code",
   "execution_count": 609,
   "metadata": {},
   "outputs": [
    {
     "name": "stdout",
     "output_type": "stream",
     "text": [
      "[0, 0, 0, 0, 0, 0, 0, 0, 0, 0, 0, 0, 0, 0, 0, 0, 0, 0, 0, 0, 0, 0, 0, 0, 0, 0, 0, 0, 0, 0, 0, 0, 0, 0, 0, 0, 0, 0, 0, 0, 0, 0, 0, 0, 0, 0, 0, 0, 0, 0, 0, 0, 0, 0, 0, 0, 0, 0, 0, 0, 0, 0, 0, 0, 0, 0, 0, 0, 0, 0, 0, 0, 0, 0, 0, 0, 0, 0, 0, 0, 0, 0, 0, 0, 0, 0, 0, 0, 0, 0, 0, 0, 0, 0, 0, 0, 0, 0, 0, 0, 0, 0, 0, 0, 0, 0, 0, 0, 0, 0, 0, 0, 0, 0, 0, 0, 0, 0, 0, 0, 0, 0, 0, 0, 0, 0, 0, 0, 0, 0, 0, 0, 0, 0, 0, 0, 0, 0, 0, 0, 0, 0, 0, 0, 0, 0, 0, 0, 0, 0, 0, 0, 0, 0, 0, 0, 0, 0, 0, 0, 0, 0, 0, 0, 0, 0, 0, 0, 0, 0, 0, 0, 0, 0, 0, 0, 0, 0, 0, 0, 0, 0, 0, 0, 0, 0, 0, 0, 0, 0, 0, 0, 0, 0, 0, 0, 0, 0, 0, 0, 0, 0, 0, 0, 0, 0, 0, 0, 0, 0, 0, 0, 0, 0, 0, 0, 0, 0, 0, 0, 0, 0, 0, 0, 0, 0, 0, 0, 0, 0, 0, 0, 0, 0, 0, 0, 0, 0, 0, 0, 0, 0, 0, 0, 0, 0, 0, 0, 0, 0, 0, 0, 0, 0, 0, 0, 0, 0, 0, 0, 0, 0, 0, 0, 0, 0, 0, 0, 0, 0, 0, 0, 0, 0, 0, 0, 0, 0, 0, 0, 0, 0, 0, 0, 0, 0, 0, 0, 0, 0, 0, 0, 0, 0, 0, 0, 0, 0, 0, 0, 1, 1, 1, 1, 1, 1, 1, 1, 1, 1, 1, 1, 1, 1, 1, 1, 1, 1, 1, 1, 1, 1, 1, 1, 1, 1, 1, 1, 1, 1, 1, 1, 1, 1, 1, 1, 1, 1, 1, 1, 1, 1, 1, 1, 1, 1, 1, 1, 1, 1, 1, 1, 1, 1, 1, 1, 1, 1, 1, 1, 1, 1, 1, 1, 1, 1, 1, 1, 1, 1, 1, 1, 1, 1, 1, 1, 1, 1, 1, 1, 1, 1, 1, 1, 1, 1, 1, 1, 1, 1, 1, 1, 1, 1, 1, 1, 1, 1, 1, 1, 1, 1, 1, 1, 1, 1, 1, 1, 1, 1, 1, 1, 1, 1, 1, 1, 1, 1, 1, 1, 1, 1, 1, 1, 1, 1, 1, 1, 1, 1, 1, 1, 1, 1, 1, 1, 1, 1, 1, 1, 1, 1, 1, 1, 1, 1, 1, 1, 1, 1, 1, 1, 1, 1, 1, 1, 1, 1, 1, 1, 1, 1, 1, 1, 1, 1, 1, 1, 1, 1, 1, 1, 1, 1, 1, 1, 1, 1, 1, 1, 1, 1, 1, 1, 1, 1, 1, 1, 1, 1, 1, 1, 1, 1, 1, 1, 1, 1, 1, 1, 1, 1, 1, 1, 1, 1, 1, 1, 1, 1, 1, 1, 1, 1, 1, 1, 1, 1, 1, 1, 1, 1, 1, 1, 1, 1, 1, 1, 1, 1, 1, 1, 1, 1, 1, 1, 1, 1, 1, 1, 1, 1, 1, 1, 1, 1, 1, 1, 1, 1, 1, 1, 1, 1, 1, 1, 1, 1, 1, 1, 1, 1, 1, 1, 1, 1, 1, 1, 1, 1, 1, 1, 1, 1, 1, 1, 1, 1, 1, 1, 1, 1, 1, 1, 1, 1, 1, 1, 1, 1, 1, 1, 1, 1, 1, 1, 1, 1, 1, 1]\n"
     ]
    }
   ],
   "source": [
    "y1 = [0] * 300\n",
    "y2 = [1] * 300\n",
    "y3 = y1 + y2\n",
    "print(y3)"
   ]
  },
  {
   "cell_type": "code",
   "execution_count": 610,
   "metadata": {},
   "outputs": [
    {
     "name": "stdout",
     "output_type": "stream",
     "text": [
      "(600, 2)\n"
     ]
    }
   ],
   "source": [
    "from keras.utils import np_utils\n",
    "\n",
    "y_label = np.array(y3)\n",
    "y_label = np_utils.to_categorical(y_label, 2, dtype = \"float32\")\n",
    "\n",
    "print(y_label.shape)"
   ]
  },
  {
   "cell_type": "markdown",
   "metadata": {},
   "source": [
    "## Model"
   ]
  },
  {
   "cell_type": "code",
   "execution_count": 611,
   "metadata": {},
   "outputs": [],
   "source": [
    "from keras.layers import Dense, LSTM, Embedding\n",
    "\n",
    "max_features = 3000\n",
    "\n",
    "model = Sequential()\n",
    "model.add(Embedding(max_features, 200))\n",
    "model.add(SimpleRNN(64))\n",
    "model.add(Dense(2, activation='softmax'))\n",
    "\n",
    "model.compile(optimizer='rmsprop', loss='categorical_crossentropy', metrics=['acc'])"
   ]
  },
  {
   "cell_type": "markdown",
   "metadata": {},
   "source": [
    "## Train"
   ]
  },
  {
   "cell_type": "code",
   "execution_count": 614,
   "metadata": {},
   "outputs": [
    {
     "name": "stdout",
     "output_type": "stream",
     "text": [
      "Train on 480 samples, validate on 120 samples\n",
      "Epoch 1/10\n",
      "480/480 [==============================] - 3s 6ms/step - loss: 0.0426 - acc: 1.0000 - val_loss: 0.2844 - val_acc: 0.9167\n",
      "Epoch 2/10\n",
      "480/480 [==============================] - 3s 7ms/step - loss: 0.0277 - acc: 1.0000 - val_loss: 0.2634 - val_acc: 0.9250\n",
      "Epoch 3/10\n",
      "480/480 [==============================] - 3s 7ms/step - loss: 0.0197 - acc: 1.0000 - val_loss: 0.1864 - val_acc: 0.9500\n",
      "Epoch 4/10\n",
      "480/480 [==============================] - 3s 7ms/step - loss: 0.0167 - acc: 1.0000 - val_loss: 0.6000 - val_acc: 0.7750\n",
      "Epoch 5/10\n",
      "480/480 [==============================] - 3s 7ms/step - loss: 0.0142 - acc: 1.0000 - val_loss: 0.2337 - val_acc: 0.9417\n",
      "Epoch 6/10\n",
      "480/480 [==============================] - 4s 8ms/step - loss: 0.0091 - acc: 1.0000 - val_loss: 0.3458 - val_acc: 0.9083\n",
      "Epoch 7/10\n",
      "480/480 [==============================] - 3s 7ms/step - loss: 0.0075 - acc: 1.0000 - val_loss: 0.1769 - val_acc: 0.9667\n",
      "Epoch 8/10\n",
      "480/480 [==============================] - 3s 7ms/step - loss: 0.0090 - acc: 0.9979 - val_loss: 1.0101 - val_acc: 0.7000\n",
      "Epoch 9/10\n",
      "480/480 [==============================] - 3s 7ms/step - loss: 0.0075 - acc: 1.0000 - val_loss: 0.4954 - val_acc: 0.8500\n",
      "Epoch 10/10\n",
      "480/480 [==============================] - 3s 7ms/step - loss: 0.0050 - acc: 1.0000 - val_loss: 0.9465 - val_acc: 0.7667\n"
     ]
    }
   ],
   "source": [
    "history = model.fit(input_train, y_label,\n",
    "                   epochs = 10,\n",
    "                   batch_size = 120,\n",
    "                   shuffle=True,\n",
    "                   validation_split = 0.2) "
   ]
  },
  {
   "cell_type": "markdown",
   "metadata": {},
   "source": [
    "## Best param"
   ]
  },
  {
   "cell_type": "code",
   "execution_count": 615,
   "metadata": {},
   "outputs": [
    {
     "data": {
      "image/png": "[encoded data removed]",
      "text/plain": [
       "<Figure size 432x288 with 1 Axes>"
      ]
     },
     "metadata": {
      "needs_background": "light"
     },
     "output_type": "display_data"
    },
    {
     "data": {
      "image/png": "[encoded data removed]",
      "text/plain": [
       "<Figure size 432x288 with 1 Axes>"
      ]
     },
     "metadata": {
      "needs_background": "light"
     },
     "output_type": "display_data"
    }
   ],
   "source": [
    "acc = history.history['acc']\n",
    "val_acc = history.history['val_acc']\n",
    "loss = history.history['loss']\n",
    "val_loss = history.history['val_loss']\n",
    "epochs = range(1, len(acc) + 1)\n",
    "\n",
    "plt.plot(epochs, acc, 'bo', label='Training acc')\n",
    "plt.plot(epochs, val_acc, 'b', label='Validation acc')\n",
    "plt.title('Training and validation accuracy')\n",
    "plt.legend()\n",
    "plt.figure()\n",
    "\n",
    "plt.plot(epochs, loss, 'bo', label='Training loss')\n",
    "plt.plot(epochs, val_loss, 'b', label='Validation loss')\n",
    "plt.title('Training and validation loss')\n",
    "plt.legend()\n",
    "plt.show()"
   ]
  },
  {
   "cell_type": "markdown",
   "metadata": {},
   "source": [
    "## Test"
   ]
  },
  {
   "cell_type": "code",
   "execution_count": 619,
   "metadata": {},
   "outputs": [
    {
     "name": "stdout",
     "output_type": "stream",
     "text": [
      "['정부', '달', '전', '민간', '택지', '아파트', '도', '분양', '상한', '제', '확대', '뜻', '세부', '안이', '오늘', '오전', '발표', '최근', '등세', '주택', '시장', '반응', '주목']\n"
     ]
    }
   ],
   "source": [
    "twitter = Okt()\n",
    "\n",
    "test_data =\"\"\"정부가 한달 전부터 민간택지 아파트로도 분양가 상한제를 확대하겠다는 뜻을 밝혔는데요 세부안이 오늘 오전 발표됩 최근 반등세를 나타내고 있는 주택 시장이 어떤 반응을 보일지 주목됩니다. \"\"\"\n",
    "malist = twitter.pos(test_data, norm=True, stem=True)\n",
    "test_data_list = []\n",
    "for word in malist:\n",
    "    if word[1] in [\"Noun\"]:\n",
    "        test_data_list.append(word[0])\n",
    "print(test_data_list)"
   ]
  },
  {
   "cell_type": "code",
   "execution_count": 617,
   "metadata": {},
   "outputs": [
    {
     "name": "stdout",
     "output_type": "stream",
     "text": [
      "['오늘', '경기', '유벤투스', '승리', '승점', '점', '더', '경기', '심판', '판이', '판결', '대해', '관중', '크게', '아쉬움', '표']\n"
     ]
    }
   ],
   "source": [
    "twitter = Okt()\n",
    "\n",
    "test_data =\"\"\"오늘 경기는 유벤투스의 승리로 승점 1점 더 챙기게 되었습니다 경기중 심판의 오판이 있던 판결에 대해 관중들은 크게 아쉬움을 표했습니다.\"\"\"\n",
    "malist = twitter.pos(test_data, norm=True, stem=True)\n",
    "test_data_list = []\n",
    "for word in malist:\n",
    "    if word[1] in [\"Noun\"]:\n",
    "        test_data_list.append(word[0])\n",
    "print(test_data_list)"
   ]
  },
  {
   "cell_type": "code",
   "execution_count": 620,
   "metadata": {},
   "outputs": [
    {
     "name": "stdout",
     "output_type": "stream",
     "text": [
      "[[0.923643   0.07635704]\n",
      " [0.9272172  0.07278279]\n",
      " [0.90650886 0.09349115]\n",
      " [0.93165284 0.0683471 ]\n",
      " [0.94490224 0.05509774]\n",
      " [0.90182805 0.09817197]\n",
      " [0.9356381  0.06436178]\n",
      " [0.9232182  0.07678184]\n",
      " [0.92788494 0.07211505]\n",
      " [0.94413966 0.0558604 ]\n",
      " [0.90898836 0.09101171]\n",
      " [0.9227417  0.0772583 ]\n",
      " [0.9227417  0.0772583 ]\n",
      " [0.9227417  0.0772583 ]\n",
      " [0.92530733 0.07469266]\n",
      " [0.9278145  0.07218552]\n",
      " [0.9061552  0.09384477]\n",
      " [0.94822574 0.05177428]\n",
      " [0.9227417  0.0772583 ]\n",
      " [0.94092435 0.05907558]\n",
      " [0.944313   0.05568697]\n",
      " [0.9227417  0.0772583 ]\n",
      " [0.9319055  0.06809452]]\n"
     ]
    }
   ],
   "source": [
    "data_token_test = []\n",
    "for i in range(len(test_data_list)):\n",
    "#     tokens = word_tokenize(test_data_list[i])\n",
    "#     data_token_test.append(tokens)\n",
    "    data_token_test.append(test_data_list[i])\n",
    "data_token_test = np.array(data_token_test)\n",
    "\n",
    "tokenizer.fit_on_texts(data_token_test)\n",
    "sequences = tokenizer.texts_to_sequences(data_token_test)\n",
    "test_data_sequence = sequence.pad_sequences(sequences, maxlen=len_word)\n",
    "\n",
    "a = model.predict(test_data_sequence)\n",
    "\n",
    "print(a)\n",
    "predict = np.argmax(a)\n",
    "if predict == 0:\n",
    "    print('이 카테고리는 경제입니다')\n",
    "elif predict == 1: \n",
    "    print('이 카테고리는 스포츠입니다')"
   ]
  },
  {
   "cell_type": "code",
   "execution_count": null,
   "metadata": {},
   "outputs": [],
   "source": [
    "# tokenizer = Tokenizer(num_words=len_word)\n",
    "# tokenizer.fit_on_texts(data_split)\n",
    "\n",
    "# sequences = tokenizer.texts_to_sequences(data_split)"
   ]
  }
 ],
 "metadata": {
  "kernelspec": {
   "display_name": "Python 3",
   "language": "python",
   "name": "python3"
  },
  "language_info": {
   "codemirror_mode": {
    "name": "ipython",
    "version": 3
   },
   "file_extension": ".py",
   "mimetype": "text/x-python",
   "name": "python",
   "nbconvert_exporter": "python",
   "pygments_lexer": "ipython3",
   "version": "3.7.3"
  }
 },
 "nbformat": 4,
 "nbformat_minor": 2
}
